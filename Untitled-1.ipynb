{
 "cells": [
  {
   "cell_type": "code",
   "execution_count": 2,
   "metadata": {},
   "outputs": [
    {
     "name": "stdout",
     "output_type": "stream",
     "text": [
      "1945-08-17 00:00:00 selisih 28782 hari\n",
      "1785-11-11 00:00:00 selisih 87134 hari\n",
      "1783-06-08 00:00:00 selisih 88021 hari\n",
      "1889-05-02 00:00:00 selisih 49342 hari\n"
     ]
    }
   ],
   "source": [
    "#Latihan 1\n",
    "import re\n",
    "from datetime import datetime\n",
    "\n",
    "txt = \"\"\"\n",
    "Pada tanggal 1945-08-17 Indonesia merdeka. Indonesia memiliki beberapa pahlawan\n",
    "nasional, seperti Pangeran Diponegoro (TL: 1785-11-11), Pattimura (TL: 1783-06-08) dan Ki\n",
    "Hajar Dewantara (1889-05-02).\n",
    "\"\"\"\n",
    "\n",
    "dates = re.findall(r'\\b\\d{4}-\\d{2}-\\d{2}\\b', txt)\n",
    "now = datetime.now()\n",
    "\n",
    "for date_str in dates:\n",
    "    date_obj = datetime.strptime(date_str, '%Y-%m-%d')\n",
    "    delta = now - date_obj\n",
    "    formatted_date = date_obj.strftime('%d-%m-%Y')\n",
    "    print(f\"{date_obj} selisih {delta.days} hari\")"
   ]
  },
  {
   "cell_type": "code",
   "execution_count": 1,
   "metadata": {},
   "outputs": [
    {
     "name": "stdout",
     "output_type": "stream",
     "text": [
      "anton@mail.com username: anton, password: FAzR3vqK\n",
      "budi@gmail.co.id username: budi, password: wI4MEE2q\n",
      "slamet@getnada.com username: slamet, password: qCia4npu\n",
      "matahari@tokopedia.com username: matahari, password: y9GWYYNr\n"
     ]
    }
   ],
   "source": [
    "#Latihan 2\n",
    "import re\n",
    "import random\n",
    "import string\n",
    "\n",
    "txt = \"\"\"\n",
    "Berikut adalah daftar email dan nama pengguna dari mailing list:\n",
    "anton@mail.com dimiliki oleh antonius\n",
    "budi@gmail.co.id dimiliki oleh budi anwari\n",
    "slamet@getnada.com dimiliki oleh slamet slumut\n",
    "matahari@tokopedia.com dimiliki oleh toko matahari\n",
    "\"\"\"\n",
    "\n",
    "emails = re.findall(r'\\b[A-Za-z0-9._%+-]+@[A-Za-z0-9.-]+\\.[A-Z|a-z]{2,}\\b', txt)\n",
    "\n",
    "def generate_password(length=8):\n",
    "    characters = string.ascii_letters + string.digits\n",
    "    return ''.join(random.choice(characters) for _ in range(length))\n",
    "\n",
    "for email in emails:\n",
    "    username = email.split('@')[0]\n",
    "    password = generate_password()\n",
    "    print(f\"{email} username: {username}, password: {password}\")"
   ]
  }
 ],
 "metadata": {
  "kernelspec": {
   "display_name": "Python 3",
   "language": "python",
   "name": "python3"
  },
  "language_info": {
   "codemirror_mode": {
    "name": "ipython",
    "version": 3
   },
   "file_extension": ".py",
   "mimetype": "text/x-python",
   "name": "python",
   "nbconvert_exporter": "python",
   "pygments_lexer": "ipython3",
   "version": "3.12.2"
  },
  "orig_nbformat": 4
 },
 "nbformat": 4,
 "nbformat_minor": 2
}
